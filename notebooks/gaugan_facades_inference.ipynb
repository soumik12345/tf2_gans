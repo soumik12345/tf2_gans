{
  "nbformat": 4,
  "nbformat_minor": 0,
  "metadata": {
    "colab": {
      "name": "gaugan-facades-inference.ipynb",
      "provenance": [],
      "collapsed_sections": [],
      "machine_shape": "hm",
      "authorship_tag": "ABX9TyNxqUJhFgOup2pxWmYdXDAD",
      "include_colab_link": true
    },
    "kernelspec": {
      "name": "python3",
      "display_name": "Python 3"
    },
    "language_info": {
      "name": "python"
    },
    "accelerator": "GPU"
  },
  "cells": [
    {
      "cell_type": "markdown",
      "metadata": {
        "id": "view-in-github",
        "colab_type": "text"
      },
      "source": [
        "<a href=\"https://colab.research.google.com/github/soumik12345/tf2_gans/blob/gaugan/notebooks/gaugan_facades_inference.ipynb\" target=\"_parent\"><img src=\"https://colab.research.google.com/assets/colab-badge.svg\" alt=\"Open In Colab\"/></a>"
      ]
    },
    {
      "cell_type": "markdown",
      "source": [
        "## Setup"
      ],
      "metadata": {
        "id": "igNFBIcFncv6"
      }
    },
    {
      "cell_type": "code",
      "execution_count": null,
      "metadata": {
        "id": "wlfDFiFjmXwW"
      },
      "outputs": [],
      "source": [
        "# Clone the repository as it contains utility functions. \n",
        "!git clone https://github.com/soumik12345/tf2_gans -b gaugan\n",
        "!cd tf2_gans && pip install -qr requirements.docker\n",
        "\n",
        "# Get the Facades dataset. We'll use the validation masks from here.\n",
        "!cd tf2_gans && gdown https://drive.google.com/uc?id=1q4FEjQg1YSb4mPx2VdxL7LXKYu3voTMj\n",
        "!cd tf2_gans && unzip -q facades_data.zip\n",
        "\n",
        "# Get the pre-trained checkpoints.\n",
        "!wget https://github.com/soumik12345/tf2_gans/releases/download/v0.2/checkpoints.zip\n",
        "!unzip -q checkpoints.zip"
      ]
    },
    {
      "cell_type": "code",
      "source": [
        "# Reference: https://stackoverflow.com/questions/64862818/cannot-import-name-png-from-matplotlib\n",
        "!pip uninstall -q matplotlib\n",
        "!pip install -q matplotlib==3.1.3"
      ],
      "metadata": {
        "id": "a7oYzWA0r_6c"
      },
      "execution_count": null,
      "outputs": []
    },
    {
      "cell_type": "markdown",
      "source": [
        "## Imports"
      ],
      "metadata": {
        "id": "695BE3wMoJM2"
      }
    },
    {
      "cell_type": "code",
      "source": [
        "import sys\n",
        "sys.path.append(\"tf2_gans\")\n",
        "\n",
        "from tensorflow import keras\n",
        "import tensorflow as tf\n",
        "\n",
        "import matplotlib.pyplot as plt\n",
        "\n",
        "from gaugan.dataloader import FacadesDataLoader\n",
        "from gaugan.models import GauGAN\n",
        "from configs import facades"
      ],
      "metadata": {
        "id": "s-lROE4OoG4h"
      },
      "execution_count": null,
      "outputs": []
    },
    {
      "cell_type": "code",
      "source": [
        "print(f\"TensorFlow version: {tf.__version__}.\")\n",
        "print(f\"Keras version: {keras.__version__}.\")"
      ],
      "metadata": {
        "id": "kqEaWSiOpXXI"
      },
      "execution_count": null,
      "outputs": []
    },
    {
      "cell_type": "markdown",
      "source": [
        "## Initialize the GauGAN model and populate weights"
      ],
      "metadata": {
        "id": "TdGbGAoFsfYi"
      }
    },
    {
      "cell_type": "code",
      "source": [
        "configurations = facades.get_config()\n",
        "gaugan_model = GauGAN(\n",
        "    image_size=configurations.image_height,\n",
        "    num_classes=configurations.num_classes,\n",
        "    batch_size=configurations.batch_size,\n",
        "    hyperparameters=configurations.hyperparameters,\n",
        ")\n",
        "print(\"GauGAN model initialized.\")"
      ],
      "metadata": {
        "id": "ZwS3FdprpfEw"
      },
      "execution_count": null,
      "outputs": []
    },
    {
      "cell_type": "code",
      "source": [
        "disc_path = \"/content/tf2_gans/checkpoints/models/220106-163235/discriminator\"\n",
        "generator_path = \"/content/tf2_gans/checkpoints/models/220106-163235/generator\"\n",
        "\n",
        "gaugan_model.discriminator = keras.models.load_model(disc_path)\n",
        "gaugan_model.generator = keras.models.load_model(generator_path)\n",
        "\n",
        "print(\"Weights populated.\")"
      ],
      "metadata": {
        "id": "CODb4hK0rK-v"
      },
      "execution_count": null,
      "outputs": []
    },
    {
      "cell_type": "code",
      "source": [
        "if configurations.dataset_dir == \"facades_data\":\n",
        "    configurations.dataset_dir = f\"/content/tf2_gans/{configurations.dataset_dir}\"\n",
        "\n",
        "print(f\"Dataset path: {configurations.dataset_dir}.\")"
      ],
      "metadata": {
        "id": "soikkLdTqGYc"
      },
      "execution_count": null,
      "outputs": []
    },
    {
      "cell_type": "markdown",
      "source": [
        "## Initialize the validation dataset"
      ],
      "metadata": {
        "id": "u63tcsq5sinu"
      }
    },
    {
      "cell_type": "code",
      "source": [
        "data_loader = FacadesDataLoader(\n",
        "    target_image_height=configurations.image_height,\n",
        "    target_image_width=configurations.image_width,\n",
        "    num_classes=configurations.num_classes,\n",
        "    data_dir=configurations.dataset_dir,\n",
        ")\n",
        "_, val_dataset = data_loader.get_datasets(\n",
        "    batch_size=configurations.batch_size,\n",
        "    split_fraction=configurations.split_fraction,\n",
        ")\n",
        "print(\"Validation dataset prepared.\")"
      ],
      "metadata": {
        "id": "V3_LeUFgp2LV"
      },
      "execution_count": null,
      "outputs": []
    },
    {
      "cell_type": "markdown",
      "source": [
        "## Perform inference"
      ],
      "metadata": {
        "id": "naW07QLZsl7j"
      }
    },
    {
      "cell_type": "code",
      "source": [
        "val_iterator = iter(val_dataset)\n",
        "\n",
        "for _ in range(5):\n",
        "    val_images = next(val_iterator)\n",
        "    # Sample latent from a normal distribution.\n",
        "    latent_vector = tf.random.normal(\n",
        "        shape=(gaugan_model.batch_size, gaugan_model.latent_dim), mean=0.0, stddev=2.0\n",
        "    )\n",
        "    # Generate fake images.\n",
        "    fake_images = gaugan_model.predict([latent_vector, val_images[2]])\n",
        "\n",
        "    real_images = val_images\n",
        "    grid_row = min(fake_images.shape[0], 3)\n",
        "    grid_col = 3\n",
        "    f, axarr = plt.subplots(grid_row, grid_col, figsize=(grid_col * 6, grid_row * 6))\n",
        "    for row in range(grid_row):\n",
        "        ax = axarr if grid_row == 1 else axarr[row]\n",
        "        ax[0].imshow((real_images[0][row] + 1) / 2)\n",
        "        ax[0].axis(\"off\")\n",
        "        ax[0].set_title(\"Mask\", fontsize=20)\n",
        "        ax[1].imshow((real_images[1][row] + 1) / 2)\n",
        "        ax[1].axis(\"off\")\n",
        "        ax[1].set_title(\"Ground Truth\", fontsize=20)\n",
        "        ax[2].imshow((fake_images[row] + 1) / 2)\n",
        "        ax[2].axis(\"off\")\n",
        "        ax[2].set_title(\"Generated\", fontsize=20)\n",
        "    plt.show()"
      ],
      "metadata": {
        "id": "mS9ViZzbqWca"
      },
      "execution_count": null,
      "outputs": []
    },
    {
      "cell_type": "markdown",
      "source": [
        "For more details please refer to our blog post: [GauGAN for conditional image generation](https://keras.io/examples/generative/gaugan/)."
      ],
      "metadata": {
        "id": "sfsEIHC8sU3e"
      }
    }
  ]
}